{
 "cells": [
  {
   "cell_type": "code",
   "execution_count": 1,
   "id": "b283819e",
   "metadata": {},
   "outputs": [
    {
     "name": "stdout",
     "output_type": "stream",
     "text": [
      "Requirement already satisfied: pyshorteners in c:\\users\\rajarshidhar\\anaconda3\\lib\\site-packages (1.0.1)\n",
      "Requirement already satisfied: requests in c:\\users\\rajarshidhar\\anaconda3\\lib\\site-packages (from pyshorteners) (2.27.1)\n",
      "Requirement already satisfied: certifi>=2017.4.17 in c:\\users\\rajarshidhar\\anaconda3\\lib\\site-packages (from requests->pyshorteners) (2021.10.8)\n",
      "Requirement already satisfied: urllib3<1.27,>=1.21.1 in c:\\users\\rajarshidhar\\anaconda3\\lib\\site-packages (from requests->pyshorteners) (1.26.9)\n",
      "Requirement already satisfied: idna<4,>=2.5 in c:\\users\\rajarshidhar\\anaconda3\\lib\\site-packages (from requests->pyshorteners) (3.3)\n",
      "Requirement already satisfied: charset-normalizer~=2.0.0 in c:\\users\\rajarshidhar\\anaconda3\\lib\\site-packages (from requests->pyshorteners) (2.0.4)\n",
      "Note: you may need to restart the kernel to use updated packages.\n"
     ]
    }
   ],
   "source": [
    "pip install pyshorteners"
   ]
  },
  {
   "cell_type": "code",
   "execution_count": 2,
   "id": "260df00d",
   "metadata": {},
   "outputs": [
    {
     "name": "stdout",
     "output_type": "stream",
     "text": [
      "Requirement already satisfied: pyperclip in c:\\users\\rajarshidhar\\anaconda3\\lib\\site-packages (1.8.2)Note: you may need to restart the kernel to use updated packages.\n",
      "\n"
     ]
    }
   ],
   "source": [
    "pip install pyperclip"
   ]
  },
  {
   "cell_type": "code",
   "execution_count": 3,
   "id": "546e4334",
   "metadata": {},
   "outputs": [
    {
     "name": "stdout",
     "output_type": "stream",
     "text": [
      "Requirement already satisfied: tk in c:\\users\\rajarshidhar\\anaconda3\\lib\\site-packages (0.1.0)Note: you may need to restart the kernel to use updated packages.\n",
      "\n"
     ]
    }
   ],
   "source": [
    "pip install tk"
   ]
  },
  {
   "cell_type": "code",
   "execution_count": 7,
   "id": "cbe037eb",
   "metadata": {},
   "outputs": [],
   "source": [
    "import pyperclip\n",
    "import pyshorteners\n",
    "\n",
    "from tkinter import *\n",
    "\n",
    "root = Tk()\n",
    "root.geometry(\"400x400\")\n",
    "root.title(\"URL Shortener Python Project\")\n",
    "root.configure(bg=\"#49A\")\n",
    "url = StringVar()\n",
    "url_address = StringVar()\n",
    "\n",
    "def shortenurl():\n",
    "    urladdress = url.get()\n",
    "    shortURL = pyshorteners.Shortener().tinyurl.short(urladdress)\n",
    "    url_address.set(shortURL)\n",
    "    \n",
    "def copytheURL():\n",
    "    shortURL = url_address.get()\n",
    "    pyperclip.copy(shortURL)\n",
    "    \n",
    "Label(root, text = \"My URL Shortener\", font = \"poppins\").pack(pady = 10)\n",
    "Entry(root, textvariable = url).pack(pady = 5)\n",
    "Button(root, text = \"Generate Short URL\", command = shortenurl).pack(pady = 7)\n",
    "Entry(root, textvariable = url_address).pack(pady = 5)\n",
    "Button(root, text = \"Copy URL\", command = copytheURL).pack(pady = 7)\n",
    "\n",
    "root.mainloop()"
   ]
  },
  {
   "cell_type": "code",
   "execution_count": null,
   "id": "8f17eeb3",
   "metadata": {},
   "outputs": [],
   "source": []
  }
 ],
 "metadata": {
  "kernelspec": {
   "display_name": "Python 3 (ipykernel)",
   "language": "python",
   "name": "python3"
  },
  "language_info": {
   "codemirror_mode": {
    "name": "ipython",
    "version": 3
   },
   "file_extension": ".py",
   "mimetype": "text/x-python",
   "name": "python",
   "nbconvert_exporter": "python",
   "pygments_lexer": "ipython3",
   "version": "3.9.12"
  }
 },
 "nbformat": 4,
 "nbformat_minor": 5
}
