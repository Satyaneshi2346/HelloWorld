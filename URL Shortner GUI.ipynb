{
 "cells": [
  {
   "cell_type": "code",
   "execution_count": 5,
   "id": "c40f3a9c",
   "metadata": {},
   "outputs": [
    {
     "name": "stdout",
     "output_type": "stream",
     "text": [
      "Collecting tk\n",
      "  Downloading tk-0.1.0-py3-none-any.whl (3.9 kB)\n",
      "Installing collected packages: tk\n",
      "Successfully installed tk-0.1.0\n",
      "Note: you may need to restart the kernel to use updated packages.\n"
     ]
    }
   ],
   "source": [
    "pip install tk"
   ]
  },
  {
   "cell_type": "code",
   "execution_count": 1,
   "id": "7fee9011",
   "metadata": {},
   "outputs": [],
   "source": [
    "#pip install tk\n",
    "import pyperclip\n",
    "import pyshorteners\n",
    "\n",
    "from tkinter import *\n",
    "\n",
    "root = Tk()\n",
    "root.geometry(\"400x400\")\n",
    "root.title(\"URL Shortener Python Project\")\n",
    "root.configure(bg=\"#49A\")\n",
    "url = StringVar()\n",
    "url_address = StringVar()\n",
    "\n",
    "def shortenurl():\n",
    "    urladdress = url.get()\n",
    "    shortURL = pyshorteners.Shortener().tinyurl.short(urladdress)\n",
    "    url_address.set(shortURL)\n",
    "    \n",
    "def copytheURL():\n",
    "    shortURL = url_address.get()\n",
    "    pyperclip.copy(shortURL)\n",
    "    \n",
    "Label(root, text = \"My URL Shortener\", font = \"poppins\").pack(pady = 10)\n",
    "Entry(root, textvariable = url).pack(pady = 5)\n",
    "Button(root, text = \"Generate Short URL\", command = shortenurl).pack(pady = 7)\n",
    "Entry(root, textvariable = url_address).pack(pady = 5)\n",
    "Button(root, text = \"Copy URL\", command = copytheURL).pack(pady = 7)\n",
    "\n",
    "root.mainloop()"
   ]
  },
  {
   "cell_type": "code",
   "execution_count": null,
   "id": "716a157f",
   "metadata": {},
   "outputs": [],
   "source": []
  }
 ],
 "metadata": {
  "kernelspec": {
   "display_name": "Python 3 (ipykernel)",
   "language": "python",
   "name": "python3"
  },
  "language_info": {
   "codemirror_mode": {
    "name": "ipython",
    "version": 3
   },
   "file_extension": ".py",
   "mimetype": "text/x-python",
   "name": "python",
   "nbconvert_exporter": "python",
   "pygments_lexer": "ipython3",
   "version": "3.9.12"
  }
 },
 "nbformat": 4,
 "nbformat_minor": 5
}
